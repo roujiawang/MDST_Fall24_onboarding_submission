{
  "cells": [
    {
      "cell_type": "markdown",
      "metadata": {
        "id": "0a8IYAJUshu1"
      },
      "source": [
        "# Checkpoint 0"
      ],
      "id": "0a8IYAJUshu1"
    },
    {
      "cell_type": "markdown",
      "metadata": {
        "id": "wHtoGjDa_bkc"
      },
      "source": [
        "These exercises are a mix of Python and Pandas practice. Most should be no more than a few lines of code!"
      ],
      "id": "wHtoGjDa_bkc"
    },
    {
      "cell_type": "code",
      "execution_count": null,
      "metadata": {
        "id": "Jo6wuTgkshu1"
      },
      "outputs": [],
      "source": [
        "# here is a Python list:\n",
        "\n",
        "a = [1, 2, 3, 4, 5, 6]\n"
      ],
      "id": "Jo6wuTgkshu1"
    },
    {
      "cell_type": "code",
      "execution_count": null,
      "id": "779d96b1",
      "metadata": {
        "colab": {
          "base_uri": "https://localhost:8080/"
        },
        "id": "779d96b1",
        "outputId": "006804ec-9fb1-4400-b6c7-b256d28e8ef2"
      },
      "outputs": [
        {
          "output_type": "stream",
          "name": "stdout",
          "text": [
            "[4, 5, 6]\n"
          ]
        }
      ],
      "source": [
        "# get a list containing the last 3 elements of a\n",
        "# Yes, you can just type out [4, 5, 6] but we really want to see you demonstrate you know how to use list slicing in Python\n",
        "b = a[-3:]\n",
        "print(b)"
      ]
    },
    {
      "cell_type": "code",
      "execution_count": null,
      "id": "b6a54def",
      "metadata": {
        "colab": {
          "base_uri": "https://localhost:8080/"
        },
        "id": "b6a54def",
        "outputId": "ddd046e6-30df-4903-a489-8eed0d507a93"
      },
      "outputs": [
        {
          "output_type": "stream",
          "name": "stdout",
          "text": [
            "[1, 2, 3, 4, 5, 6, 7, 8, 9, 10, 11, 12, 13, 14, 15, 16, 17, 18, 19, 20]\n"
          ]
        }
      ],
      "source": [
        "# create a list of numbers from 1 to 20\n",
        "c = list(range(1, 21, 1))\n",
        "print(c)"
      ]
    },
    {
      "cell_type": "code",
      "execution_count": null,
      "id": "487873ac",
      "metadata": {
        "colab": {
          "base_uri": "https://localhost:8080/"
        },
        "id": "487873ac",
        "outputId": "f3e77f2c-b4fc-43a6-d95c-7387150907e7"
      },
      "outputs": [
        {
          "output_type": "stream",
          "name": "stdout",
          "text": [
            "[2, 4, 6, 8, 10, 12, 14, 16, 18, 20, 22, 24, 26, 28, 30, 32, 34, 36, 38, 40, 42, 44, 46, 48, 50, 52, 54, 56, 58, 60, 62, 64, 66, 68, 70, 72, 74, 76, 78, 80, 82, 84, 86, 88, 90, 92, 94, 96, 98, 100]\n"
          ]
        }
      ],
      "source": [
        "# now get a list with only the even numbers between 1 and 100\n",
        "# you may or may not make use of the list you made in the last cell\n",
        "d = list(range(2, 101, 2))\n",
        "print(d)"
      ]
    },
    {
      "cell_type": "code",
      "execution_count": 16,
      "id": "3d4bb5dd",
      "metadata": {
        "colab": {
          "base_uri": "https://localhost:8080/"
        },
        "id": "3d4bb5dd",
        "outputId": "4809a024-8306-4a74-eb53-94685335417e"
      },
      "outputs": [
        {
          "output_type": "stream",
          "name": "stdout",
          "text": [
            "3.3333333333333335\n",
            "0.3\n"
          ]
        }
      ],
      "source": [
        "# write a function that takes two numbers as arguments\n",
        "# and returns the first number divided by the second\n",
        "def divide(a, b):\n",
        "  if b == 0:\n",
        "    return None\n",
        "  return a/b\n",
        "print(divide(10, 3))\n",
        "print(divide(3, 10))"
      ]
    },
    {
      "cell_type": "code",
      "execution_count": null,
      "id": "f55df04e",
      "metadata": {
        "colab": {
          "base_uri": "https://localhost:8080/"
        },
        "id": "f55df04e",
        "outputId": "2a71ea89-5af9-4dfa-a8bb-2d24aed04bc6"
      },
      "outputs": [
        {
          "output_type": "stream",
          "name": "stdout",
          "text": [
            "1\n",
            "2\n",
            "fizz\n",
            "4\n",
            "buzz\n",
            "fizz\n",
            "7\n",
            "8\n",
            "fizz\n",
            "buzz\n",
            "11\n",
            "fizz\n",
            "13\n",
            "14\n",
            "NOTHING ELSE\n",
            "16\n",
            "17\n",
            "fizz\n",
            "19\n",
            "buzz\n",
            "fizz\n",
            "22\n",
            "23\n",
            "fizz\n",
            "buzz\n",
            "26\n",
            "fizz\n",
            "28\n",
            "29\n",
            "NOTHING ELSE\n"
          ]
        }
      ],
      "source": [
        "# fizzbuzz\n",
        "# you will need to use both iteration and control flow\n",
        "# go through all numbers from 1 to 30 in order\n",
        "# if the number is a multiple of 3, print fizz\n",
        "# if the number is a multiple of 5, print buzz\n",
        "# if the number is a multiple of 3 and 5, print fizzbuzz and NOTHING ELSE\n",
        "# if the number is neither a multiple of 3 nor a multiple of 5, print the number\n",
        "def fizzbuzz(n):\n",
        "  if n%3 == 0 and n%5 == 0:\n",
        "    print(\"NOTHING ELSE\")\n",
        "  elif n%3 == 0:\n",
        "    print(\"fizz\")\n",
        "  elif n%5 == 0:\n",
        "    print(\"buzz\")\n",
        "  else:\n",
        "    print(n)\n",
        "\n",
        "for n in range(1, 31, 1):\n",
        "  fizzbuzz(n)"
      ]
    },
    {
      "cell_type": "code",
      "execution_count": null,
      "id": "78aace0b",
      "metadata": {
        "colab": {
          "base_uri": "https://localhost:8080/"
        },
        "id": "78aace0b",
        "outputId": "3ff8a961-c895-4179-93e8-282f63261a91"
      },
      "outputs": [
        {
          "output_type": "stream",
          "name": "stdout",
          "text": [
            "{'Gyro': '$9', 'Burger': '$9', 'Greek Salad': '$8', 'Philly Steak': '$10'}\n"
          ]
        }
      ],
      "source": [
        "# create a dictionary that reflects the following menu pricing (taken from Ahmo's)\n",
        "# Gyro: $9\n",
        "# Burger: $9\n",
        "# Greek Salad: $8\n",
        "# Philly Steak: $10\n",
        "menu_dict = {\"Gyro\": \"$9\", \"Burger\": \"$9\", \"Greek Salad\": \"$8\", \"Philly Steak\": \"$10\"}\n",
        "print(menu_dict)"
      ]
    },
    {
      "cell_type": "code",
      "execution_count": 9,
      "metadata": {
        "id": "WzCQ5HOJshvA",
        "colab": {
          "base_uri": "https://localhost:8080/"
        },
        "outputId": "60ae0407-53fc-4146-e189-006aa7f17d2a"
      },
      "outputs": [
        {
          "output_type": "stream",
          "name": "stdout",
          "text": [
            "Requirement already satisfied: pandas in /usr/local/lib/python3.10/dist-packages (2.1.4)\n",
            "Requirement already satisfied: numpy<2,>=1.22.4 in /usr/local/lib/python3.10/dist-packages (from pandas) (1.26.4)\n",
            "Requirement already satisfied: python-dateutil>=2.8.2 in /usr/local/lib/python3.10/dist-packages (from pandas) (2.8.2)\n",
            "Requirement already satisfied: pytz>=2020.1 in /usr/local/lib/python3.10/dist-packages (from pandas) (2024.1)\n",
            "Requirement already satisfied: tzdata>=2022.1 in /usr/local/lib/python3.10/dist-packages (from pandas) (2024.1)\n",
            "Requirement already satisfied: six>=1.5 in /usr/local/lib/python3.10/dist-packages (from python-dateutil>=2.8.2->pandas) (1.16.0)\n"
          ]
        }
      ],
      "source": [
        "# load in the \"starbucks.csv\" dataset\n",
        "# refer to how we read the cereal.csv dataset in the tutorial\n",
        "! pip install pandas\n",
        "import pandas as pd\n",
        "\n",
        "sb = pd.read_csv(\"data/starbucks.csv\")"
      ],
      "id": "WzCQ5HOJshvA"
    },
    {
      "cell_type": "code",
      "execution_count": 12,
      "id": "ac0f0c12",
      "metadata": {
        "id": "ac0f0c12",
        "colab": {
          "base_uri": "https://localhost:8080/"
        },
        "outputId": "d17d86dc-eb34-4786-9a3b-a1a640c4f4a9"
      },
      "outputs": [
        {
          "output_type": "stream",
          "name": "stdout",
          "text": [
            "signature espresso drinks 2% Milk\n",
            "signature espresso drinks Venti Nonfat Milk\n",
            "signature espresso drinks 2% Milk\n",
            "signature espresso drinks Soymilk\n",
            "tazo tea drinks 2% Milk\n",
            "frappuccino blended coffee Venti Nonfat Milk\n",
            "frappuccino blended coffee Whole Milk\n",
            "frappuccino blended coffee Soymilk\n"
          ]
        }
      ],
      "source": [
        "# select all rows with more than and including 400 calories\n",
        "h = sb[sb[\"calories\"] >= 400]\n",
        "for b, p in zip(h['beverage_category'], h[\"beverage_prep\"]):\n",
        "  print(b, p)"
      ]
    },
    {
      "cell_type": "code",
      "execution_count": 13,
      "id": "ee8f8241",
      "metadata": {
        "id": "ee8f8241",
        "colab": {
          "base_uri": "https://localhost:8080/"
        },
        "outputId": "0d4e53ca-b75a-4fbe-a94c-32a9f58d66de"
      },
      "outputs": [
        {
          "output_type": "stream",
          "name": "stdout",
          "text": [
            "classic espresso drinks 2% Milk\n",
            "classic espresso drinks 2% Milk\n",
            "classic espresso drinks 2% Milk\n",
            "classic espresso drinks 2% Milk\n",
            "signature espresso drinks 2% Milk\n",
            "signature espresso drinks 2% Milk\n",
            "signature espresso drinks 2% Milk\n",
            "signature espresso drinks Tall Nonfat Milk\n",
            "signature espresso drinks 2% Milk\n",
            "signature espresso drinks 2% Milk\n",
            "signature espresso drinks 2% Milk\n",
            "tazo tea drinks Short Nonfat Milk\n",
            "tazo tea drinks 2% Milk\n",
            "tazo tea drinks Tall Nonfat Milk\n",
            "tazo tea drinks 2% Milk\n",
            "tazo tea drinks Grande Nonfat Milk\n",
            "tazo tea drinks 2% Milk\n",
            "tazo tea drinks Venti Nonfat Milk\n",
            "tazo tea drinks 2% Milk\n",
            "shaken iced beverages Tall\n",
            "shaken iced beverages Grande\n",
            "shaken iced beverages Venti\n",
            "smoothies Grande Nonfat Milk\n",
            "smoothies Grande Nonfat Milk\n",
            "smoothies 2% Milk\n",
            "smoothies Soymilk\n",
            "smoothies Grande Nonfat Milk\n",
            "smoothies 2% Milk\n",
            "smoothies Soymilk\n",
            "frappuccino blended crme Tall Nonfat Milk\n",
            "frappuccino blended crme Whole Milk\n",
            "frappuccino blended crme Grande Nonfat Milk\n",
            "frappuccino blended crme Whole Milk\n",
            "frappuccino blended crme Venti Nonfat Milk\n",
            "frappuccino blended crme Whole Milk\n"
          ]
        }
      ],
      "source": [
        "# select all rows whose vitamin c content is higher than the iron content\n",
        "vc = sb[sb[\"vitamin c\"] > sb[\"iron\"]]\n",
        "for b, p in zip(vc['beverage_category'], vc[\"beverage_prep\"]):\n",
        "  print(b, p)"
      ]
    },
    {
      "cell_type": "code",
      "execution_count": 15,
      "id": "d4de48bb",
      "metadata": {
        "id": "d4de48bb",
        "colab": {
          "base_uri": "https://localhost:8080/",
          "height": 349
        },
        "outputId": "271a06a8-44c6-4c2b-89ce-e7c45fe7a08b"
      },
      "outputs": [
        {
          "output_type": "stream",
          "name": "stdout",
          "text": [
            "Requirement already satisfied: numpy in /usr/local/lib/python3.10/dist-packages (1.26.4)\n"
          ]
        },
        {
          "output_type": "execute_result",
          "data": {
            "text/plain": [
              "         beverage_category       beverage      beverage_prep  calories  \\\n",
              "0                   coffee  brewed coffee              Short         3   \n",
              "1                   coffee  brewed coffee               Tall         4   \n",
              "2                   coffee  brewed coffee             Grande         5   \n",
              "3                   coffee  brewed coffee              Venti         5   \n",
              "4  classic espresso drinks     caff latte  Short Nonfat Milk        70   \n",
              "\n",
              "   total fat  trans fat  saturated fat  sodium  total carbohydrates  \\\n",
              "0        0.1        0.0            0.0       0                    5   \n",
              "1        0.1        0.0            0.0       0                   10   \n",
              "2        0.1        0.0            0.0       0                   10   \n",
              "3        0.1        0.0            0.0       0                   10   \n",
              "4        0.1        0.1            0.0       5                   75   \n",
              "\n",
              "   cholesterol  dietary fibre  sugars  protein  vitamin a  vitamin c  calcium  \\\n",
              "0            0              0       0      0.3          0          0        0   \n",
              "1            0              0       0      0.5          0          0        0   \n",
              "2            0              0       0      1.0          0          0        0   \n",
              "3            0              0       0      1.0          0          0        2   \n",
              "4           10              0       9      6.0         10          0       20   \n",
              "\n",
              "   iron  caffeine  caffeine_per_calories  \n",
              "0   0.0     175.0              58.333333  \n",
              "1   0.0     260.0              65.000000  \n",
              "2   0.0     330.0              66.000000  \n",
              "3   0.0     410.0              82.000000  \n",
              "4   0.0      75.0               1.071429  "
            ],
            "text/html": [
              "\n",
              "  <div id=\"df-b5bb95a4-d792-4f30-b89a-0665ea0a5c67\" class=\"colab-df-container\">\n",
              "    <div>\n",
              "<style scoped>\n",
              "    .dataframe tbody tr th:only-of-type {\n",
              "        vertical-align: middle;\n",
              "    }\n",
              "\n",
              "    .dataframe tbody tr th {\n",
              "        vertical-align: top;\n",
              "    }\n",
              "\n",
              "    .dataframe thead th {\n",
              "        text-align: right;\n",
              "    }\n",
              "</style>\n",
              "<table border=\"1\" class=\"dataframe\">\n",
              "  <thead>\n",
              "    <tr style=\"text-align: right;\">\n",
              "      <th></th>\n",
              "      <th>beverage_category</th>\n",
              "      <th>beverage</th>\n",
              "      <th>beverage_prep</th>\n",
              "      <th>calories</th>\n",
              "      <th>total fat</th>\n",
              "      <th>trans fat</th>\n",
              "      <th>saturated fat</th>\n",
              "      <th>sodium</th>\n",
              "      <th>total carbohydrates</th>\n",
              "      <th>cholesterol</th>\n",
              "      <th>dietary fibre</th>\n",
              "      <th>sugars</th>\n",
              "      <th>protein</th>\n",
              "      <th>vitamin a</th>\n",
              "      <th>vitamin c</th>\n",
              "      <th>calcium</th>\n",
              "      <th>iron</th>\n",
              "      <th>caffeine</th>\n",
              "      <th>caffeine_per_calories</th>\n",
              "    </tr>\n",
              "  </thead>\n",
              "  <tbody>\n",
              "    <tr>\n",
              "      <th>0</th>\n",
              "      <td>coffee</td>\n",
              "      <td>brewed coffee</td>\n",
              "      <td>Short</td>\n",
              "      <td>3</td>\n",
              "      <td>0.1</td>\n",
              "      <td>0.0</td>\n",
              "      <td>0.0</td>\n",
              "      <td>0</td>\n",
              "      <td>5</td>\n",
              "      <td>0</td>\n",
              "      <td>0</td>\n",
              "      <td>0</td>\n",
              "      <td>0.3</td>\n",
              "      <td>0</td>\n",
              "      <td>0</td>\n",
              "      <td>0</td>\n",
              "      <td>0.0</td>\n",
              "      <td>175.0</td>\n",
              "      <td>58.333333</td>\n",
              "    </tr>\n",
              "    <tr>\n",
              "      <th>1</th>\n",
              "      <td>coffee</td>\n",
              "      <td>brewed coffee</td>\n",
              "      <td>Tall</td>\n",
              "      <td>4</td>\n",
              "      <td>0.1</td>\n",
              "      <td>0.0</td>\n",
              "      <td>0.0</td>\n",
              "      <td>0</td>\n",
              "      <td>10</td>\n",
              "      <td>0</td>\n",
              "      <td>0</td>\n",
              "      <td>0</td>\n",
              "      <td>0.5</td>\n",
              "      <td>0</td>\n",
              "      <td>0</td>\n",
              "      <td>0</td>\n",
              "      <td>0.0</td>\n",
              "      <td>260.0</td>\n",
              "      <td>65.000000</td>\n",
              "    </tr>\n",
              "    <tr>\n",
              "      <th>2</th>\n",
              "      <td>coffee</td>\n",
              "      <td>brewed coffee</td>\n",
              "      <td>Grande</td>\n",
              "      <td>5</td>\n",
              "      <td>0.1</td>\n",
              "      <td>0.0</td>\n",
              "      <td>0.0</td>\n",
              "      <td>0</td>\n",
              "      <td>10</td>\n",
              "      <td>0</td>\n",
              "      <td>0</td>\n",
              "      <td>0</td>\n",
              "      <td>1.0</td>\n",
              "      <td>0</td>\n",
              "      <td>0</td>\n",
              "      <td>0</td>\n",
              "      <td>0.0</td>\n",
              "      <td>330.0</td>\n",
              "      <td>66.000000</td>\n",
              "    </tr>\n",
              "    <tr>\n",
              "      <th>3</th>\n",
              "      <td>coffee</td>\n",
              "      <td>brewed coffee</td>\n",
              "      <td>Venti</td>\n",
              "      <td>5</td>\n",
              "      <td>0.1</td>\n",
              "      <td>0.0</td>\n",
              "      <td>0.0</td>\n",
              "      <td>0</td>\n",
              "      <td>10</td>\n",
              "      <td>0</td>\n",
              "      <td>0</td>\n",
              "      <td>0</td>\n",
              "      <td>1.0</td>\n",
              "      <td>0</td>\n",
              "      <td>0</td>\n",
              "      <td>2</td>\n",
              "      <td>0.0</td>\n",
              "      <td>410.0</td>\n",
              "      <td>82.000000</td>\n",
              "    </tr>\n",
              "    <tr>\n",
              "      <th>4</th>\n",
              "      <td>classic espresso drinks</td>\n",
              "      <td>caff latte</td>\n",
              "      <td>Short Nonfat Milk</td>\n",
              "      <td>70</td>\n",
              "      <td>0.1</td>\n",
              "      <td>0.1</td>\n",
              "      <td>0.0</td>\n",
              "      <td>5</td>\n",
              "      <td>75</td>\n",
              "      <td>10</td>\n",
              "      <td>0</td>\n",
              "      <td>9</td>\n",
              "      <td>6.0</td>\n",
              "      <td>10</td>\n",
              "      <td>0</td>\n",
              "      <td>20</td>\n",
              "      <td>0.0</td>\n",
              "      <td>75.0</td>\n",
              "      <td>1.071429</td>\n",
              "    </tr>\n",
              "  </tbody>\n",
              "</table>\n",
              "</div>\n",
              "    <div class=\"colab-df-buttons\">\n",
              "\n",
              "  <div class=\"colab-df-container\">\n",
              "    <button class=\"colab-df-convert\" onclick=\"convertToInteractive('df-b5bb95a4-d792-4f30-b89a-0665ea0a5c67')\"\n",
              "            title=\"Convert this dataframe to an interactive table.\"\n",
              "            style=\"display:none;\">\n",
              "\n",
              "  <svg xmlns=\"http://www.w3.org/2000/svg\" height=\"24px\" viewBox=\"0 -960 960 960\">\n",
              "    <path d=\"M120-120v-720h720v720H120Zm60-500h600v-160H180v160Zm220 220h160v-160H400v160Zm0 220h160v-160H400v160ZM180-400h160v-160H180v160Zm440 0h160v-160H620v160ZM180-180h160v-160H180v160Zm440 0h160v-160H620v160Z\"/>\n",
              "  </svg>\n",
              "    </button>\n",
              "\n",
              "  <style>\n",
              "    .colab-df-container {\n",
              "      display:flex;\n",
              "      gap: 12px;\n",
              "    }\n",
              "\n",
              "    .colab-df-convert {\n",
              "      background-color: #E8F0FE;\n",
              "      border: none;\n",
              "      border-radius: 50%;\n",
              "      cursor: pointer;\n",
              "      display: none;\n",
              "      fill: #1967D2;\n",
              "      height: 32px;\n",
              "      padding: 0 0 0 0;\n",
              "      width: 32px;\n",
              "    }\n",
              "\n",
              "    .colab-df-convert:hover {\n",
              "      background-color: #E2EBFA;\n",
              "      box-shadow: 0px 1px 2px rgba(60, 64, 67, 0.3), 0px 1px 3px 1px rgba(60, 64, 67, 0.15);\n",
              "      fill: #174EA6;\n",
              "    }\n",
              "\n",
              "    .colab-df-buttons div {\n",
              "      margin-bottom: 4px;\n",
              "    }\n",
              "\n",
              "    [theme=dark] .colab-df-convert {\n",
              "      background-color: #3B4455;\n",
              "      fill: #D2E3FC;\n",
              "    }\n",
              "\n",
              "    [theme=dark] .colab-df-convert:hover {\n",
              "      background-color: #434B5C;\n",
              "      box-shadow: 0px 1px 3px 1px rgba(0, 0, 0, 0.15);\n",
              "      filter: drop-shadow(0px 1px 2px rgba(0, 0, 0, 0.3));\n",
              "      fill: #FFFFFF;\n",
              "    }\n",
              "  </style>\n",
              "\n",
              "    <script>\n",
              "      const buttonEl =\n",
              "        document.querySelector('#df-b5bb95a4-d792-4f30-b89a-0665ea0a5c67 button.colab-df-convert');\n",
              "      buttonEl.style.display =\n",
              "        google.colab.kernel.accessAllowed ? 'block' : 'none';\n",
              "\n",
              "      async function convertToInteractive(key) {\n",
              "        const element = document.querySelector('#df-b5bb95a4-d792-4f30-b89a-0665ea0a5c67');\n",
              "        const dataTable =\n",
              "          await google.colab.kernel.invokeFunction('convertToInteractive',\n",
              "                                                    [key], {});\n",
              "        if (!dataTable) return;\n",
              "\n",
              "        const docLinkHtml = 'Like what you see? Visit the ' +\n",
              "          '<a target=\"_blank\" href=https://colab.research.google.com/notebooks/data_table.ipynb>data table notebook</a>'\n",
              "          + ' to learn more about interactive tables.';\n",
              "        element.innerHTML = '';\n",
              "        dataTable['output_type'] = 'display_data';\n",
              "        await google.colab.output.renderOutput(dataTable, element);\n",
              "        const docLink = document.createElement('div');\n",
              "        docLink.innerHTML = docLinkHtml;\n",
              "        element.appendChild(docLink);\n",
              "      }\n",
              "    </script>\n",
              "  </div>\n",
              "\n",
              "\n",
              "<div id=\"df-65215fc8-8070-44b7-a189-419beded756d\">\n",
              "  <button class=\"colab-df-quickchart\" onclick=\"quickchart('df-65215fc8-8070-44b7-a189-419beded756d')\"\n",
              "            title=\"Suggest charts\"\n",
              "            style=\"display:none;\">\n",
              "\n",
              "<svg xmlns=\"http://www.w3.org/2000/svg\" height=\"24px\"viewBox=\"0 0 24 24\"\n",
              "     width=\"24px\">\n",
              "    <g>\n",
              "        <path d=\"M19 3H5c-1.1 0-2 .9-2 2v14c0 1.1.9 2 2 2h14c1.1 0 2-.9 2-2V5c0-1.1-.9-2-2-2zM9 17H7v-7h2v7zm4 0h-2V7h2v10zm4 0h-2v-4h2v4z\"/>\n",
              "    </g>\n",
              "</svg>\n",
              "  </button>\n",
              "\n",
              "<style>\n",
              "  .colab-df-quickchart {\n",
              "      --bg-color: #E8F0FE;\n",
              "      --fill-color: #1967D2;\n",
              "      --hover-bg-color: #E2EBFA;\n",
              "      --hover-fill-color: #174EA6;\n",
              "      --disabled-fill-color: #AAA;\n",
              "      --disabled-bg-color: #DDD;\n",
              "  }\n",
              "\n",
              "  [theme=dark] .colab-df-quickchart {\n",
              "      --bg-color: #3B4455;\n",
              "      --fill-color: #D2E3FC;\n",
              "      --hover-bg-color: #434B5C;\n",
              "      --hover-fill-color: #FFFFFF;\n",
              "      --disabled-bg-color: #3B4455;\n",
              "      --disabled-fill-color: #666;\n",
              "  }\n",
              "\n",
              "  .colab-df-quickchart {\n",
              "    background-color: var(--bg-color);\n",
              "    border: none;\n",
              "    border-radius: 50%;\n",
              "    cursor: pointer;\n",
              "    display: none;\n",
              "    fill: var(--fill-color);\n",
              "    height: 32px;\n",
              "    padding: 0;\n",
              "    width: 32px;\n",
              "  }\n",
              "\n",
              "  .colab-df-quickchart:hover {\n",
              "    background-color: var(--hover-bg-color);\n",
              "    box-shadow: 0 1px 2px rgba(60, 64, 67, 0.3), 0 1px 3px 1px rgba(60, 64, 67, 0.15);\n",
              "    fill: var(--button-hover-fill-color);\n",
              "  }\n",
              "\n",
              "  .colab-df-quickchart-complete:disabled,\n",
              "  .colab-df-quickchart-complete:disabled:hover {\n",
              "    background-color: var(--disabled-bg-color);\n",
              "    fill: var(--disabled-fill-color);\n",
              "    box-shadow: none;\n",
              "  }\n",
              "\n",
              "  .colab-df-spinner {\n",
              "    border: 2px solid var(--fill-color);\n",
              "    border-color: transparent;\n",
              "    border-bottom-color: var(--fill-color);\n",
              "    animation:\n",
              "      spin 1s steps(1) infinite;\n",
              "  }\n",
              "\n",
              "  @keyframes spin {\n",
              "    0% {\n",
              "      border-color: transparent;\n",
              "      border-bottom-color: var(--fill-color);\n",
              "      border-left-color: var(--fill-color);\n",
              "    }\n",
              "    20% {\n",
              "      border-color: transparent;\n",
              "      border-left-color: var(--fill-color);\n",
              "      border-top-color: var(--fill-color);\n",
              "    }\n",
              "    30% {\n",
              "      border-color: transparent;\n",
              "      border-left-color: var(--fill-color);\n",
              "      border-top-color: var(--fill-color);\n",
              "      border-right-color: var(--fill-color);\n",
              "    }\n",
              "    40% {\n",
              "      border-color: transparent;\n",
              "      border-right-color: var(--fill-color);\n",
              "      border-top-color: var(--fill-color);\n",
              "    }\n",
              "    60% {\n",
              "      border-color: transparent;\n",
              "      border-right-color: var(--fill-color);\n",
              "    }\n",
              "    80% {\n",
              "      border-color: transparent;\n",
              "      border-right-color: var(--fill-color);\n",
              "      border-bottom-color: var(--fill-color);\n",
              "    }\n",
              "    90% {\n",
              "      border-color: transparent;\n",
              "      border-bottom-color: var(--fill-color);\n",
              "    }\n",
              "  }\n",
              "</style>\n",
              "\n",
              "  <script>\n",
              "    async function quickchart(key) {\n",
              "      const quickchartButtonEl =\n",
              "        document.querySelector('#' + key + ' button');\n",
              "      quickchartButtonEl.disabled = true;  // To prevent multiple clicks.\n",
              "      quickchartButtonEl.classList.add('colab-df-spinner');\n",
              "      try {\n",
              "        const charts = await google.colab.kernel.invokeFunction(\n",
              "            'suggestCharts', [key], {});\n",
              "      } catch (error) {\n",
              "        console.error('Error during call to suggestCharts:', error);\n",
              "      }\n",
              "      quickchartButtonEl.classList.remove('colab-df-spinner');\n",
              "      quickchartButtonEl.classList.add('colab-df-quickchart-complete');\n",
              "    }\n",
              "    (() => {\n",
              "      let quickchartButtonEl =\n",
              "        document.querySelector('#df-65215fc8-8070-44b7-a189-419beded756d button');\n",
              "      quickchartButtonEl.style.display =\n",
              "        google.colab.kernel.accessAllowed ? 'block' : 'none';\n",
              "    })();\n",
              "  </script>\n",
              "</div>\n",
              "\n",
              "    </div>\n",
              "  </div>\n"
            ],
            "application/vnd.google.colaboratory.intrinsic+json": {
              "type": "dataframe",
              "variable_name": "sb",
              "summary": "{\n  \"name\": \"sb\",\n  \"rows\": 242,\n  \"fields\": [\n    {\n      \"column\": \"beverage_category\",\n      \"properties\": {\n        \"dtype\": \"category\",\n        \"num_unique_values\": 9,\n        \"samples\": [\n          \"frappuccino light blended coffee\",\n          \"classic espresso drinks\",\n          \"smoothies\"\n        ],\n        \"semantic_type\": \"\",\n        \"description\": \"\"\n      }\n    },\n    {\n      \"column\": \"beverage\",\n      \"properties\": {\n        \"dtype\": \"category\",\n        \"num_unique_values\": 33,\n        \"samples\": [\n          \"strawberries  crme (without whipped cream)\",\n          \"tazo fullleaf tea latte\",\n          \"caramel (without whipped cream)\"\n        ],\n        \"semantic_type\": \"\",\n        \"description\": \"\"\n      }\n    },\n    {\n      \"column\": \"beverage_prep\",\n      \"properties\": {\n        \"dtype\": \"category\",\n        \"num_unique_values\": 13,\n        \"samples\": [\n          \"Doppio\",\n          \"Venti Nonfat Milk\",\n          \"Short\"\n        ],\n        \"semantic_type\": \"\",\n        \"description\": \"\"\n      }\n    },\n    {\n      \"column\": \"calories\",\n      \"properties\": {\n        \"dtype\": \"number\",\n        \"std\": 102,\n        \"min\": 0,\n        \"max\": 510,\n        \"num_unique_values\": 48,\n        \"samples\": [\n          50,\n          460,\n          25\n        ],\n        \"semantic_type\": \"\",\n        \"description\": \"\"\n      }\n    },\n    {\n      \"column\": \"total fat\",\n      \"properties\": {\n        \"dtype\": \"number\",\n        \"std\": 2.944376487959666,\n        \"min\": 0.0,\n        \"max\": 15.0,\n        \"num_unique_values\": 24,\n        \"samples\": [\n          5.0,\n          11.0,\n          0.1\n        ],\n        \"semantic_type\": \"\",\n        \"description\": \"\"\n      }\n    },\n    {\n      \"column\": \"trans fat\",\n      \"properties\": {\n        \"dtype\": \"number\",\n        \"std\": 1.6402586298589379,\n        \"min\": 0.0,\n        \"max\": 9.0,\n        \"num_unique_values\": 18,\n        \"samples\": [\n          0.0,\n          0.1,\n          0.3\n        ],\n        \"semantic_type\": \"\",\n        \"description\": \"\"\n      }\n    },\n    {\n      \"column\": \"saturated fat\",\n      \"properties\": {\n        \"dtype\": \"number\",\n        \"std\": 0.07137679566904637,\n        \"min\": 0.0,\n        \"max\": 0.3,\n        \"num_unique_values\": 4,\n        \"samples\": [\n          0.1,\n          0.3,\n          0.0\n        ],\n        \"semantic_type\": \"\",\n        \"description\": \"\"\n      }\n    },\n    {\n      \"column\": \"sodium\",\n      \"properties\": {\n        \"dtype\": \"number\",\n        \"std\": 8,\n        \"min\": 0,\n        \"max\": 40,\n        \"num_unique_values\": 9,\n        \"samples\": [\n          20,\n          5,\n          10\n        ],\n        \"semantic_type\": \"\",\n        \"description\": \"\"\n      }\n    },\n    {\n      \"column\": \"total carbohydrates\",\n      \"properties\": {\n        \"dtype\": \"number\",\n        \"std\": 82,\n        \"min\": 0,\n        \"max\": 340,\n        \"num_unique_values\": 51,\n        \"samples\": [\n          35,\n          230,\n          340\n        ],\n        \"semantic_type\": \"\",\n        \"description\": \"\"\n      }\n    },\n    {\n      \"column\": \"cholesterol\",\n      \"properties\": {\n        \"dtype\": \"number\",\n        \"std\": 20,\n        \"min\": 0,\n        \"max\": 90,\n        \"num_unique_values\": 75,\n        \"samples\": [\n          19,\n          68,\n          32\n        ],\n        \"semantic_type\": \"\",\n        \"description\": \"\"\n      }\n    },\n    {\n      \"column\": \"dietary fibre\",\n      \"properties\": {\n        \"dtype\": \"number\",\n        \"std\": 1,\n        \"min\": 0,\n        \"max\": 8,\n        \"num_unique_values\": 8,\n        \"samples\": [\n          1,\n          7,\n          0\n        ],\n        \"semantic_type\": \"\",\n        \"description\": \"\"\n      }\n    },\n    {\n      \"column\": \"sugars\",\n      \"properties\": {\n        \"dtype\": \"number\",\n        \"std\": 19,\n        \"min\": 0,\n        \"max\": 84,\n        \"num_unique_values\": 70,\n        \"samples\": [\n          3,\n          0,\n          46\n        ],\n        \"semantic_type\": \"\",\n        \"description\": \"\"\n      }\n    },\n    {\n      \"column\": \"protein\",\n      \"properties\": {\n        \"dtype\": \"number\",\n        \"std\": 4.871659197647139,\n        \"min\": 0.0,\n        \"max\": 20.0,\n        \"num_unique_values\": 26,\n        \"samples\": [\n          12.0,\n          0.4,\n          0.3\n        ],\n        \"semantic_type\": \"\",\n        \"description\": \"\"\n      }\n    },\n    {\n      \"column\": \"vitamin a\",\n      \"properties\": {\n        \"dtype\": \"number\",\n        \"std\": 8,\n        \"min\": 0,\n        \"max\": 50,\n        \"num_unique_values\": 11,\n        \"samples\": [\n          30,\n          0,\n          2\n        ],\n        \"semantic_type\": \"\",\n        \"description\": \"\"\n      }\n    },\n    {\n      \"column\": \"vitamin c\",\n      \"properties\": {\n        \"dtype\": \"number\",\n        \"std\": 14,\n        \"min\": 0,\n        \"max\": 100,\n        \"num_unique_values\": 10,\n        \"samples\": [\n          100,\n          2,\n          15\n        ],\n        \"semantic_type\": \"\",\n        \"description\": \"\"\n      }\n    },\n    {\n      \"column\": \"calcium\",\n      \"properties\": {\n        \"dtype\": \"number\",\n        \"std\": 14,\n        \"min\": 0,\n        \"max\": 60,\n        \"num_unique_values\": 14,\n        \"samples\": [\n          45,\n          60,\n          0\n        ],\n        \"semantic_type\": \"\",\n        \"description\": \"\"\n      }\n    },\n    {\n      \"column\": \"iron\",\n      \"properties\": {\n        \"dtype\": \"number\",\n        \"std\": 10.486466609979255,\n        \"min\": 0.0,\n        \"max\": 50.0,\n        \"num_unique_values\": 13,\n        \"samples\": [\n          4.0,\n          6.0,\n          0.0\n        ],\n        \"semantic_type\": \"\",\n        \"description\": \"\"\n      }\n    },\n    {\n      \"column\": \"caffeine\",\n      \"properties\": {\n        \"dtype\": \"number\",\n        \"std\": 61.56077378848245,\n        \"min\": 0.0,\n        \"max\": 410.0,\n        \"num_unique_values\": 35,\n        \"samples\": [\n          125.0,\n          25.0,\n          235.0\n        ],\n        \"semantic_type\": \"\",\n        \"description\": \"\"\n      }\n    },\n    {\n      \"column\": \"caffeine_per_calories\",\n      \"properties\": {\n        \"dtype\": \"number\",\n        \"std\": 8.984711054875428,\n        \"min\": 0.0,\n        \"max\": 82.0,\n        \"num_unique_values\": 137,\n        \"samples\": [\n          0.3181818181818182,\n          0.3888888888888889,\n          0.625\n        ],\n        \"semantic_type\": \"\",\n        \"description\": \"\"\n      }\n    }\n  ]\n}"
            }
          },
          "metadata": {},
          "execution_count": 15
        }
      ],
      "source": [
        "# create a new column containing the caffeine per calories of each drink\n",
        "!pip install numpy\n",
        "import numpy as np\n",
        "\n",
        "sb[\"caffeine_per_calories\"] = np.where(sb['calories'] != 0, sb['caffeine'] / sb['calories'], np.nan)\n",
        "sb.head()"
      ]
    },
    {
      "cell_type": "code",
      "execution_count": 17,
      "metadata": {
        "id": "rIoxaSxHshvB",
        "colab": {
          "base_uri": "https://localhost:8080/"
        },
        "outputId": "1c0d0650-c989-4760-a323-13f326841859"
      },
      "outputs": [
        {
          "output_type": "stream",
          "name": "stdout",
          "text": [
            "193.87190082644628\n"
          ]
        }
      ],
      "source": [
        "# what is the average calorie across all items?\n",
        "c_avg = sb[\"calories\"].mean()\n",
        "print(c_avg)"
      ],
      "id": "rIoxaSxHshvB"
    },
    {
      "cell_type": "code",
      "execution_count": 21,
      "metadata": {
        "id": "ABX7i49FshvD",
        "colab": {
          "base_uri": "https://localhost:8080/"
        },
        "outputId": "78c41c26-97e5-493e-e6ac-4d49e3f7c9c8"
      },
      "outputs": [
        {
          "output_type": "stream",
          "name": "stdout",
          "text": [
            "['coffee' 'classic espresso drinks' 'signature espresso drinks'\n",
            " 'tazo tea drinks' 'shaken iced beverages' 'smoothies'\n",
            " 'frappuccino blended coffee' 'frappuccino light blended coffee'\n",
            " 'frappuccino blended crme']\n",
            "num of unique categories： 9\n"
          ]
        }
      ],
      "source": [
        "# how many different categories of beverages are there?\n",
        "c_uniq = sb[\"beverage_category\"].unique()\n",
        "print(c_uniq)\n",
        "print(\"num of unique categories：\", len(c_uniq))\n"
      ],
      "id": "ABX7i49FshvD"
    },
    {
      "cell_type": "code",
      "execution_count": 22,
      "metadata": {
        "id": "P9QatZAzshvE",
        "colab": {
          "base_uri": "https://localhost:8080/"
        },
        "outputId": "716aa3b2-1e9e-4b50-90f5-be6b783babd9"
      },
      "outputs": [
        {
          "output_type": "stream",
          "name": "stdout",
          "text": [
            "beverage_category\n",
            "classic espresso drinks             140.172414\n",
            "coffee                                4.250000\n",
            "frappuccino blended coffee          276.944444\n",
            "frappuccino blended crme            233.076923\n",
            "frappuccino light blended coffee    162.500000\n",
            "shaken iced beverages               114.444444\n",
            "signature espresso drinks           250.000000\n",
            "smoothies                           282.222222\n",
            "tazo tea drinks                     177.307692\n",
            "Name: calories, dtype: float64\n"
          ]
        }
      ],
      "source": [
        "# what is the average # calories for each beverage category?\n",
        "cat_cal = sb.groupby([\"beverage_category\"])[\"calories\"].mean()\n",
        "print(cat_cal)"
      ],
      "id": "P9QatZAzshvE"
    }
  ],
  "metadata": {
    "kernelspec": {
      "display_name": "Python 3.9.0 64-bit",
      "language": "python",
      "name": "python3"
    },
    "language_info": {
      "codemirror_mode": {
        "name": "ipython",
        "version": 3
      },
      "file_extension": ".py",
      "mimetype": "text/x-python",
      "name": "python",
      "nbconvert_exporter": "python",
      "pygments_lexer": "ipython3",
      "version": "3.9.0"
    },
    "vscode": {
      "interpreter": {
        "hash": "6cf8df3ff69f85f626faf55c10df6fe2cb9d1236b4dc73844ee4dc01369c2c99"
      }
    },
    "colab": {
      "provenance": []
    }
  },
  "nbformat": 4,
  "nbformat_minor": 5
}